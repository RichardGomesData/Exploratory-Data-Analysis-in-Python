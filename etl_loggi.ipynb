{
 "cells": [
  {
   "cell_type": "markdown",
   "metadata": {},
   "source": [
    "Transformar os dados do JSON para um banco de dados como parte de um processo de ETL (Extração, Transformação e Carregamento). Segue um exemplo de como isso pode ser feito em Python:  \n",
    "\n",
    "### 1. **Extração**  \n",
    "Carregue o JSON para um DataFrame utilizando a biblioteca `pandas`.  \n",
    "\n",
    "### 2. **Transformação**  \n",
    "Estruture os dados em tabelas adequadas para um banco relacional ou organize-os para um banco não relacional.  \n",
    "- Exemplo: Criar tabelas como `hubs`, `deliveries` e `vehicles`.  \n",
    "\n",
    "### 3. **Carregamento**  \n",
    "Grave os dados em um banco de dados usando bibliotecas como `sqlite3` para SQLite ou `sqlalchemy` para outros bancos (MySQL, PostgreSQL, etc.).  \n",
    "\n",
    "### Exemplo de Código em Python  \n",
    "\n",
    "```python\n",
    "import json\n",
    "import pandas as pd\n",
    "import sqlite3\n",
    "\n",
    "# Extração: Carregando o JSON\n",
    "with open('deliveries.json', 'r') as file:\n",
    "    data = json.load(file)\n",
    "\n",
    "# Transformação: Estruturando os dados em tabelas\n",
    "hubs = []\n",
    "deliveries = []\n",
    "\n",
    "for hub in data:\n",
    "    hubs.append({\n",
    "        \"name\": hub[\"name\"],\n",
    "        \"region\": hub[\"region\"],\n",
    "        \"origin_lng\": hub[\"origin\"][\"lng\"],\n",
    "        \"origin_lat\": hub[\"origin\"][\"lat\"],\n",
    "        \"vehicle_capacity\": hub[\"vehicle_capacity\"],\n",
    "    })\n",
    "    for delivery in hub[\"deliveries\"]:\n",
    "        deliveries.append({\n",
    "            \"hub_name\": hub[\"name\"],\n",
    "            \"delivery_id\": delivery[\"id\"],\n",
    "            \"delivery_lng\": delivery[\"point\"][\"lng\"],\n",
    "            \"delivery_lat\": delivery[\"point\"][\"lat\"],\n",
    "            \"delivery_size\": delivery[\"size\"],\n",
    "        })\n",
    "\n",
    "# Convertendo para DataFrames\n",
    "df_hubs = pd.DataFrame(hubs)\n",
    "df_deliveries = pd.DataFrame(deliveries)\n",
    "\n",
    "# Carregamento: Salvando os dados em um banco SQLite\n",
    "conn = sqlite3.connect('logistics.db')\n",
    "\n",
    "df_hubs.to_sql('hubs', conn, if_exists='replace', index=False)\n",
    "df_deliveries.to_sql('deliveries', conn, if_exists='replace', index=False)\n",
    "\n",
    "# Verificando os dados salvos\n",
    "print(pd.read_sql(\"SELECT * FROM hubs LIMIT 5;\", conn))\n",
    "print(pd.read_sql(\"SELECT * FROM deliveries LIMIT 5;\", conn))\n",
    "\n",
    "conn.close()\n",
    "```\n",
    "\n",
    "### Resultado:\n",
    "- **Tabela `hubs`**: Contém informações sobre os hubs, como nome, região e capacidade.  \n",
    "- **Tabela `deliveries`**: Detalha cada entrega, incluindo localização e tamanho.  \n",
    "\n"
   ]
  },
  {
   "cell_type": "markdown",
   "metadata": {},
   "source": [
    "\n",
    "\n",
    "### Passos para usar o código:\n",
    "\n",
    "1. **Preparar o ambiente**:  \n",
    "   Certifique-se de que você tem o Python instalado e as bibliotecas necessárias:  \n",
    "   - `pandas`  \n",
    "   - `sqlite3` (já vem com o Python)  \n",
    "\n",
    "   Você pode instalar o pandas caso não tenha:  \n",
    "   ```bash\n",
    "   pip install pandas\n",
    "   ```\n",
    "\n",
    "2. **Salvar o JSON**:  \n",
    "   - Copie os dados do JSON e salve em um arquivo chamado `deliveries.json` na mesma pasta onde você vai executar o script.  \n",
    "\n",
    "3. **Executar o código**:  \n",
    "   - Salve o código fornecido em um arquivo `.py` (por exemplo, `etl_logistics.py`).  \n",
    "   - Execute o script com o comando:  \n",
    "     ```bash\n",
    "     python etl_logistics.py\n",
    "     ```\n",
    "\n",
    "4. **Resultado**:  \n",
    "   - O banco de dados SQLite será gerado com o nome `logistics.db`.  \n",
    "   - Você pode usar ferramentas como [DB Browser for SQLite](https://sqlitebrowser.org/) para visualizar e consultar os dados.  \n",
    "\n",
    "5. **Explorar os Dados**:  \n",
    "   - No Python, você pode realizar consultas diretamente ao banco, como no exemplo:  \n",
    "     ```python\n",
    "     import sqlite3\n",
    "     conn = sqlite3.connect('logistics.db')\n",
    "     print(pd.read_sql(\"SELECT * FROM hubs LIMIT 5;\", conn))\n",
    "     print(pd.read_sql(\"SELECT * FROM deliveries LIMIT 5;\", conn))\n",
    "     conn.close()\n",
    "     ```\n",
    "\n"
   ]
  },
  {
   "cell_type": "markdown",
   "metadata": {},
   "source": [
    "O arquivo `logistics.db` pode ser usado como fonte de dados para um dashboard no Tableau ou Power BI. Ambos suportam conexões com bancos SQLite, embora o processo varie ligeiramente entre os dois.\n",
    "\n",
    "### **Passos para usar o arquivo no Tableau**  \n",
    "\n",
    "1. **Verifique se você tem um driver SQLite instalado**:  \n",
    "   - O Tableau precisa de um driver ODBC para se conectar ao SQLite. Você pode instalar o [SQLite ODBC Driver](https://www.ch-werner.de/sqliteodbc/) (gratuito).\n",
    "\n",
    "2. **Conecte ao SQLite no Tableau**:  \n",
    "   - Abra o Tableau.  \n",
    "   - Clique em **Conectar a Dados** e selecione **Mais...** na seção Arquivos.  \n",
    "   - Escolha **SQLite** (se não aparecer, o driver não está instalado corretamente).  \n",
    "   - Navegue até o arquivo `logistics.db` e selecione-o.  \n",
    "\n",
    "3. **Configure as tabelas no Tableau**:  \n",
    "   - Após conectar, você verá as tabelas disponíveis (`hubs` e `deliveries`).  \n",
    "   - Arraste as tabelas para a área de trabalho e configure os relacionamentos, se necessário.  \n",
    "\n",
    "---\n",
    "\n",
    "### **Passos para usar o arquivo no Power BI**\n",
    "\n",
    "1. **Verifique o driver ODBC**:  \n",
    "   - Assim como no Tableau, instale o [SQLite ODBC Driver](https://www.ch-werner.de/sqliteodbc/).\n",
    "\n",
    "2. **Conecte ao SQLite no Power BI**:  \n",
    "   - Abra o Power BI Desktop.  \n",
    "   - Clique em **Obter Dados** > **Mais...**.  \n",
    "   - Escolha **Banco de Dados ODBC**.  \n",
    "   - Configure uma conexão ODBC para o SQLite no painel do sistema e selecione-a.  \n",
    "\n",
    "3. **Carregue os dados**:  \n",
    "   - Após conectar, selecione as tabelas (`hubs`, `deliveries`) que deseja importar.  \n",
    "   - Faça os relacionamentos no Power BI se necessário.  \n",
    "\n",
    "---\n",
    "\n",
    "### Considerações:\n",
    "- **Relacionamentos**: Certifique-se de configurar os relacionamentos entre tabelas corretamente (por exemplo, `hubs.name` com `deliveries.hub_name`).  \n",
    "- **Performance**: Para grandes volumes de dados, pode ser necessário otimizar o banco ou exportar para outros formatos mais performáticos, como SQL Server ou PostgreSQL.  \n",
    "\n",
    "Se precisar de ajuda com qualquer uma dessas etapas, avise!"
   ]
  },
  {
   "cell_type": "code",
   "execution_count": 4,
   "metadata": {},
   "outputs": [],
   "source": [
    "import json\n",
    "import pandas as pd\n",
    "import sqlite3\n",
    "\n"
   ]
  },
  {
   "cell_type": "code",
   "execution_count": 5,
   "metadata": {},
   "outputs": [],
   "source": [
    "# Extração: Carregando o JSON\n",
    "with open('deliveries.json', 'r') as file:\n",
    "    data = json.load(file)\n",
    "\n",
    "\n"
   ]
  },
  {
   "cell_type": "code",
   "execution_count": 6,
   "metadata": {},
   "outputs": [],
   "source": [
    "# Transformação: Estruturando os dados em tabelas\n",
    "hubs = []\n",
    "deliveries = []\n",
    "\n",
    "for hub in data:\n",
    "    hubs.append({\n",
    "        \"name\": hub[\"name\"],\n",
    "        \"region\": hub[\"region\"],\n",
    "        \"origin_lng\": hub[\"origin\"][\"lng\"],\n",
    "        \"origin_lat\": hub[\"origin\"][\"lat\"],\n",
    "        \"vehicle_capacity\": hub[\"vehicle_capacity\"],\n",
    "    })\n",
    "    for delivery in hub[\"deliveries\"]:\n",
    "        deliveries.append({\n",
    "            \"hub_name\": hub[\"name\"],\n",
    "            \"delivery_id\": delivery[\"id\"],\n",
    "            \"delivery_lng\": delivery[\"point\"][\"lng\"],\n",
    "            \"delivery_lat\": delivery[\"point\"][\"lat\"],\n",
    "            \"delivery_size\": delivery[\"size\"],\n",
    "        })\n",
    "\n"
   ]
  },
  {
   "cell_type": "code",
   "execution_count": 7,
   "metadata": {},
   "outputs": [],
   "source": [
    "# Convertendo para DataFrames\n",
    "df_hubs = pd.DataFrame(hubs)\n",
    "df_deliveries = pd.DataFrame(deliveries)\n",
    "\n"
   ]
  },
  {
   "cell_type": "code",
   "execution_count": 8,
   "metadata": {},
   "outputs": [
    {
     "name": "stdout",
     "output_type": "stream",
     "text": [
      "<class 'pandas.core.frame.DataFrame'>\n",
      "RangeIndex: 199 entries, 0 to 198\n",
      "Data columns (total 5 columns):\n",
      " #   Column            Non-Null Count  Dtype  \n",
      "---  ------            --------------  -----  \n",
      " 0   name              199 non-null    object \n",
      " 1   region            199 non-null    object \n",
      " 2   origin_lng        199 non-null    float64\n",
      " 3   origin_lat        199 non-null    float64\n",
      " 4   vehicle_capacity  199 non-null    int64  \n",
      "dtypes: float64(2), int64(1), object(2)\n",
      "memory usage: 7.9+ KB\n"
     ]
    }
   ],
   "source": [
    "df_hubs.info()"
   ]
  },
  {
   "cell_type": "code",
   "execution_count": 9,
   "metadata": {},
   "outputs": [
    {
     "name": "stdout",
     "output_type": "stream",
     "text": [
      "<class 'pandas.core.frame.DataFrame'>\n",
      "RangeIndex: 636149 entries, 0 to 636148\n",
      "Data columns (total 5 columns):\n",
      " #   Column         Non-Null Count   Dtype  \n",
      "---  ------         --------------   -----  \n",
      " 0   hub_name       636149 non-null  object \n",
      " 1   delivery_id    636149 non-null  object \n",
      " 2   delivery_lng   636149 non-null  float64\n",
      " 3   delivery_lat   636149 non-null  float64\n",
      " 4   delivery_size  636149 non-null  int64  \n",
      "dtypes: float64(2), int64(1), object(2)\n",
      "memory usage: 24.3+ MB\n"
     ]
    }
   ],
   "source": [
    "df_deliveries.info()"
   ]
  },
  {
   "cell_type": "code",
   "execution_count": 10,
   "metadata": {},
   "outputs": [
    {
     "data": {
      "text/plain": [
       "636149"
      ]
     },
     "execution_count": 10,
     "metadata": {},
     "output_type": "execute_result"
    }
   ],
   "source": [
    "# Carregamento: Salvando os dados em um banco SQLite\n",
    "conn = sqlite3.connect('logistics.db')\n",
    "\n",
    "df_hubs.to_sql('hubs', conn, if_exists='replace', index=False)\n",
    "df_deliveries.to_sql('deliveries', conn, if_exists='replace', index=False)\n",
    "\n"
   ]
  },
  {
   "cell_type": "code",
   "execution_count": 11,
   "metadata": {},
   "outputs": [
    {
     "name": "stdout",
     "output_type": "stream",
     "text": [
      "           name region  origin_lng  origin_lat  vehicle_capacity\n",
      "0  cvrp-2-df-33   df-2  -48.054989  -15.838145               180\n",
      "1  cvrp-2-df-73   df-2  -48.054989  -15.838145               180\n",
      "2  cvrp-2-df-20   df-2  -48.054989  -15.838145               180\n",
      "3  cvrp-1-df-71   df-1  -47.893662  -15.805118               180\n",
      "4  cvrp-2-df-87   df-2  -48.054989  -15.838145               180\n",
      "       hub_name                       delivery_id  delivery_lng  delivery_lat  \\\n",
      "0  cvrp-2-df-33  313483a19d2f8d65cd5024c8d215cfbd    -48.116189    -15.848929   \n",
      "1  cvrp-2-df-33  320c94b17aa685c939b3f3244c3099de    -48.118195    -15.850772   \n",
      "2  cvrp-2-df-33  3663b42f4b8decb33059febaba46d5c8    -48.112483    -15.847871   \n",
      "3  cvrp-2-df-33   e11ab58363c38d6abc90d5fba87b7d7    -48.118023    -15.846471   \n",
      "4  cvrp-2-df-33  54cb45b7bbbd4e34e7150900f92d7f4b    -48.114898    -15.858055   \n",
      "\n",
      "   delivery_size  \n",
      "0              9  \n",
      "1              2  \n",
      "2              1  \n",
      "3              2  \n",
      "4              7  \n"
     ]
    }
   ],
   "source": [
    "# Verificando os dados salvos\n",
    "print(pd.read_sql(\"SELECT * FROM hubs LIMIT 5;\", conn))\n",
    "print(pd.read_sql(\"SELECT * FROM deliveries LIMIT 5;\", conn))\n",
    "\n",
    "conn.close()"
   ]
  },
  {
   "cell_type": "code",
   "execution_count": 12,
   "metadata": {},
   "outputs": [
    {
     "name": "stdout",
     "output_type": "stream",
     "text": [
      "           name region  origin_lng  origin_lat  vehicle_capacity\n",
      "0  cvrp-2-df-33   df-2  -48.054989  -15.838145               180\n",
      "1  cvrp-2-df-73   df-2  -48.054989  -15.838145               180\n",
      "2  cvrp-2-df-20   df-2  -48.054989  -15.838145               180\n",
      "3  cvrp-1-df-71   df-1  -47.893662  -15.805118               180\n",
      "4  cvrp-2-df-87   df-2  -48.054989  -15.838145               180\n",
      "       hub_name                       delivery_id  delivery_lng  delivery_lat  \\\n",
      "0  cvrp-2-df-33  313483a19d2f8d65cd5024c8d215cfbd    -48.116189    -15.848929   \n",
      "1  cvrp-2-df-33  320c94b17aa685c939b3f3244c3099de    -48.118195    -15.850772   \n",
      "2  cvrp-2-df-33  3663b42f4b8decb33059febaba46d5c8    -48.112483    -15.847871   \n",
      "3  cvrp-2-df-33   e11ab58363c38d6abc90d5fba87b7d7    -48.118023    -15.846471   \n",
      "4  cvrp-2-df-33  54cb45b7bbbd4e34e7150900f92d7f4b    -48.114898    -15.858055   \n",
      "\n",
      "   delivery_size  \n",
      "0              9  \n",
      "1              2  \n",
      "2              1  \n",
      "3              2  \n",
      "4              7  \n"
     ]
    }
   ],
   "source": [
    "conn = sqlite3.connect('logistics.db')\n",
    "print(pd.read_sql(\"SELECT * FROM hubs LIMIT 5;\", conn))\n",
    "print(pd.read_sql(\"SELECT * FROM deliveries LIMIT 5;\", conn))\n",
    "conn.close()"
   ]
  }
 ],
 "metadata": {
  "kernelspec": {
   "display_name": "base",
   "language": "python",
   "name": "python3"
  },
  "language_info": {
   "codemirror_mode": {
    "name": "ipython",
    "version": 3
   },
   "file_extension": ".py",
   "mimetype": "text/x-python",
   "name": "python",
   "nbconvert_exporter": "python",
   "pygments_lexer": "ipython3",
   "version": "3.12.4"
  }
 },
 "nbformat": 4,
 "nbformat_minor": 2
}
